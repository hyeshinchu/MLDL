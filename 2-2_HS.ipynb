{
 "cells": [
  {
   "cell_type": "markdown",
   "id": "64c91188",
   "metadata": {},
   "source": [
    "# 데이터 전처리"
   ]
  },
  {
   "cell_type": "markdown",
   "id": "1bbb803c",
   "metadata": {},
   "source": [
    "## 넘파이로 데이터 준비하기"
   ]
  },
  {
   "cell_type": "code",
   "execution_count": 1,
   "id": "90ece3df",
   "metadata": {},
   "outputs": [],
   "source": [
    "fish_length = [25.4, 26.3, 26.5, 29.0, 29.0, 29.7, 29.7, 30.0, 30.0, 30.7, 31.0, 31.0, \n",
    "                31.5, 32.0, 32.0, 32.0, 33.0, 33.0, 33.5, 33.5, 34.0, 34.0, 34.5, 35.0, \n",
    "                35.0, 35.0, 35.0, 36.0, 36.0, 37.0, 38.5, 38.5, 39.5, 41.0, 41.0, 9.8, \n",
    "                10.5, 10.6, 11.0, 11.2, 11.3, 11.8, 11.8, 12.0, 12.2, 12.4, 13.0, 14.3, 15.0]\n",
    "fish_weight = [242.0, 290.0, 340.0, 363.0, 430.0, 450.0, 500.0, 390.0, 450.0, 500.0, 475.0, 500.0, \n",
    "                500.0, 340.0, 600.0, 600.0, 700.0, 700.0, 610.0, 650.0, 575.0, 685.0, 620.0, 680.0, \n",
    "                700.0, 725.0, 720.0, 714.0, 850.0, 1000.0, 920.0, 955.0, 925.0, 975.0, 950.0, 6.7, \n",
    "                7.5, 7.0, 9.7, 9.8, 8.7, 10.0, 9.9, 9.8, 12.2, 13.4, 12.2, 19.7, 19.9]"
   ]
  },
  {
   "cell_type": "code",
   "execution_count": 2,
   "id": "281f8711",
   "metadata": {},
   "outputs": [],
   "source": [
    "import numpy as np"
   ]
  },
  {
   "cell_type": "code",
   "execution_count": 4,
   "id": "3495f41b",
   "metadata": {},
   "outputs": [
    {
     "data": {
      "text/plain": [
       "array([[1, 4],\n",
       "       [2, 5],\n",
       "       [3, 6]])"
      ]
     },
     "execution_count": 4,
     "metadata": {},
     "output_type": "execute_result"
    }
   ],
   "source": [
    "np.column_stack(([1,2,3], [4,5,6])) # 넘파이 column_stack 함수는 전달받은 리스트를 일렬로 세운 다음 차례대로 나란히 연결함\n",
    "# 연결할 리스트는 파이썬 tuple로 전달함"
   ]
  },
  {
   "cell_type": "code",
   "execution_count": 7,
   "id": "2e1d7100",
   "metadata": {},
   "outputs": [],
   "source": [
    "fish_data = np.column_stack((fish_length, fish_weight))"
   ]
  },
  {
   "cell_type": "code",
   "execution_count": 9,
   "id": "1ea9e151",
   "metadata": {},
   "outputs": [
    {
     "name": "stdout",
     "output_type": "stream",
     "text": [
      "[[ 25.4 242. ]\n",
      " [ 26.3 290. ]\n",
      " [ 26.5 340. ]\n",
      " [ 29.  363. ]\n",
      " [ 29.  430. ]]\n"
     ]
    }
   ],
   "source": [
    "print(fish_data[:5]) # 두 리스트가 잘 연결되었는지 처음 5개의 데이터를 확인"
   ]
  },
  {
   "cell_type": "code",
   "execution_count": 12,
   "id": "736a1850",
   "metadata": {},
   "outputs": [
    {
     "name": "stdout",
     "output_type": "stream",
     "text": [
      "[1. 1. 1. 1. 1.]\n",
      "[0. 0. 0.]\n"
     ]
    }
   ],
   "source": [
    "# 동일한 데이터로 타깃 데이터 만들기\n",
    "# np.ones와 np.zeros 를 활용하면 [1]*35 + [0]*14 안해도 됨.\n",
    "print(np.ones(5))\n",
    "print(np.zeros(3))"
   ]
  },
  {
   "cell_type": "code",
   "execution_count": 16,
   "id": "061cbe82",
   "metadata": {},
   "outputs": [
    {
     "name": "stdout",
     "output_type": "stream",
     "text": [
      "[1. 1. 1. 1. 1. 1. 1. 1. 1. 1. 1. 1. 1. 1. 1. 1. 1. 1. 1. 1. 1. 1. 1. 1.\n",
      " 1. 1. 1. 1. 1. 1. 1. 1. 1. 1. 1. 0. 0. 0. 0. 0. 0. 0. 0. 0. 0. 0. 0. 0.\n",
      " 0.]\n"
     ]
    }
   ],
   "source": [
    "# 이번에는 np.column_stack() 함수를 사용하지 않고 np.concatenate() 함수를 사용함\n",
    "fish_target = np.concatenate((np.ones(35), np.zeros(14)))\n",
    "print(fish_target)"
   ]
  },
  {
   "cell_type": "markdown",
   "id": "c980f503",
   "metadata": {},
   "source": [
    "## 사이킷런으로 훈련 세트와 테스트 세트 나누기"
   ]
  },
  {
   "cell_type": "code",
   "execution_count": 17,
   "id": "76c615e0",
   "metadata": {},
   "outputs": [],
   "source": [
    "# 사이킷런의 train_test_split() 함수 사용하면 쉽게 할 수 있음\n",
    "\n",
    "from sklearn.model_selection import train_test_split"
   ]
  },
  {
   "cell_type": "code",
   "execution_count": 18,
   "id": "3e6b0963",
   "metadata": {},
   "outputs": [],
   "source": [
    "# 사용법을 아주 간단함. 나누고 싶은 리스트나 배열을 원하는 만큼 전달하면 됨.\n",
    "\n",
    "train_input, test_input, train_target, test_target = train_test_split(fish_data, fish_target, random_state=42)\n",
    "# 전달한 fish_data => train_test_split() 함수를 통해 train_input, test_input으로 나뉨\n",
    "# 전달한 fish_target => train_test_split() 함수를 통해 train_target, test_target으로 나뉨"
   ]
  },
  {
   "cell_type": "code",
   "execution_count": 23,
   "id": "4a93a40d",
   "metadata": {},
   "outputs": [
    {
     "name": "stdout",
     "output_type": "stream",
     "text": [
      "(36, 2) (13, 2)\n",
      "(36,) (13,)\n"
     ]
    }
   ],
   "source": [
    "# 잘 나뉘었는지 넘파이 배열의 shape 속성으로 입력 데이터의 크기를 출력\n",
    "\n",
    "print(train_input.shape, test_input.shape) # 2개의 열이 있는 2차원 배열\n",
    "print(train_target.shape, test_target.shape) # 1차원 배열"
   ]
  },
  {
   "cell_type": "code",
   "execution_count": 24,
   "id": "511c008a",
   "metadata": {},
   "outputs": [
    {
     "name": "stdout",
     "output_type": "stream",
     "text": [
      "[1. 0. 0. 0. 1. 1. 1. 1. 1. 1. 1. 1. 1.]\n"
     ]
    }
   ],
   "source": [
    "# 도미와 빙어가 잘 섞였는지 테스트 데이터를 출력\n",
    "\n",
    "print(test_target) # 전체 데이터에서 도미:빙어 = 35:14 의 비율. 지금 만든 테스트셋에서는 도미:빙어 = 10:3. 약간의 sampling bias 발생."
   ]
  },
  {
   "cell_type": "code",
   "execution_count": 28,
   "id": "94391af9",
   "metadata": {},
   "outputs": [],
   "source": [
    "# 이처럼 무작위로 데이터를 나누면 샘플이 골고루 섞이지 않을 수 있음. \n",
    "## train set과 test set에 샘플의 클래스 비율이 일정하지 않으면 모델이 일부 샘플을 올바르게 학습할 수 없음\n",
    "\n",
    "# train_test_split() 함수 사용 시 stratify 매개변수에 타깃 데이터를 전달하면 클래스 비율에 맞게 데이터를 나눔\n",
    "## 훈련 데이터가 작거나 특정 클래스의 샘플 개수가 적을 때 특히 유용함\n",
    "\n",
    "train_input, test_input, train_target, test_target = train_test_split(fish_data, fish_target, stratify=fish_target, random_state=42)"
   ]
  },
  {
   "cell_type": "code",
   "execution_count": 29,
   "id": "40d2c881",
   "metadata": {},
   "outputs": [
    {
     "name": "stdout",
     "output_type": "stream",
     "text": [
      "[0. 0. 1. 0. 1. 0. 1. 1. 1. 1. 1. 1. 1.]\n"
     ]
    }
   ],
   "source": [
    "print(test_target) # 이제 테스트 셋 비율이 2.25:1. 전체 훈련 데이터의 비율과 꽤 비슷해졌음."
   ]
  },
  {
   "cell_type": "markdown",
   "id": "23c7f704",
   "metadata": {},
   "source": [
    "## 수상한 도미 한마리"
   ]
  },
  {
   "cell_type": "code",
   "execution_count": 30,
   "id": "7748aa9f",
   "metadata": {},
   "outputs": [
    {
     "data": {
      "text/plain": [
       "1.0"
      ]
     },
     "execution_count": 30,
     "metadata": {},
     "output_type": "execute_result"
    }
   ],
   "source": [
    "# 앞에서 준비한 데이터로 KNN 훈련(1장에서 했던 것과 동일). 훈련 데이터로 모델 훈련하고, 테스트 데이터로 모델 평가.\n",
    "\n",
    "from sklearn.neighbors import KNeighborsClassifier # KNeighborsClassifier import\n",
    "kn = KNeighborsClassifier() # 모델 객체 만들기\n",
    "kn.fit(train_input, train_target) # 훈련 셋으로 모델 훈련\n",
    "kn.score(test_input, test_target) # 테스트 셋으로 모델 평가 => 정확도 100% 나옴."
   ]
  },
  {
   "cell_type": "code",
   "execution_count": 34,
   "id": "d66b8ff6",
   "metadata": {},
   "outputs": [
    {
     "name": "stdout",
     "output_type": "stream",
     "text": [
      "[0.]\n"
     ]
    }
   ],
   "source": [
    "# 여기에 새로운 도미 데이터를 넣고 결과 확인해보기\n",
    "print(kn.predict([[25,150]]))\n",
    "\n",
    "# 예측 틀림."
   ]
  },
  {
   "cell_type": "code",
   "execution_count": 36,
   "id": "b34111b3",
   "metadata": {},
   "outputs": [
    {
     "data": {
      "image/png": "[encoded data removed]",
      "text/plain": [
       "<Figure size 432x288 with 1 Axes>"
      ]
     },
     "metadata": {
      "needs_background": "light"
     },
     "output_type": "display_data"
    }
   ],
   "source": [
    "# 왜지? 이 샘플을 다른 데이터와 함께 산점도로 그려보기\n",
    "\n",
    "import matplotlib.pyplot as plt\n",
    "\n",
    "plt.scatter(train_input[:,0], train_input[:,1]) # blue -> train set. x축은 input_arr의 , y축은 input_arr의 \n",
    "plt.scatter(25,150, marker='^') # orange -> 새로운 샘플.\n",
    "plt.xlabel('length')\n",
    "plt.ylabel('weight')\n",
    "plt.show() \n",
    "\n",
    "# 도미 데이터(오른쪽 위로 뻗어있는 데이터)에 가까운데, 왜 모델은 이 샘플을 빙어에 더 가깝자고 판단했지?"
   ]
  },
  {
   "cell_type": "code",
   "execution_count": 37,
   "id": "37650f04",
   "metadata": {},
   "outputs": [],
   "source": [
    "# KNeighborsClassifier 클래스는 주어진 샘플에서 가장 가까운 이웃을 찾아주는 kneighbors() 메서드를 제공함\n",
    "## kneighbors() 메서드: 이웃까지의 거리와 이웃 샘플의 인덱스를 반환함\n",
    "### KNeighborsClassifier 클래스의 이웃 개수인 n_neighbors의 기본값을 5이므로, 5개의 이웃이 반환됨\n",
    "\n",
    "distances, indexes = kn.kneighbors([[25,150]])"
   ]
  },
  {
   "cell_type": "code",
   "execution_count": 39,
   "id": "508748ea",
   "metadata": {},
   "outputs": [
    {
     "data": {
      "image/png": "[encoded data removed]",
      "text/plain": [
       "<Figure size 432x288 with 1 Axes>"
      ]
     },
     "metadata": {
      "needs_background": "light"
     },
     "output_type": "display_data"
    }
   ],
   "source": [
    "# 넘파이 indexes 배열을 사용해 훈련 데이터 중에서 이웃 샘플을 따로 구분해 그려보기\n",
    "\n",
    "plt.scatter(train_input[:,0], train_input[:,1]) # blue -> train set. x축은 input_arr의 , y축은 input_arr의 \n",
    "plt.scatter(25,150, marker='^') # orange -> 새로운 샘플.\n",
    "plt.scatter(train_input[indexes,0], train_input[indexes,1], marker='D') # 이웃샘플 5개.\n",
    "plt.xlabel('length')\n",
    "plt.ylabel('weight')\n",
    "plt.show() \n",
    "\n",
    "# '^' 샘플에 가장 가까운 5개의 샘플 중 4개가 빙어, 도미는 하나만 포함됨"
   ]
  },
  {
   "cell_type": "code",
   "execution_count": 40,
   "id": "9d717d97",
   "metadata": {},
   "outputs": [
    {
     "name": "stdout",
     "output_type": "stream",
     "text": [
      "[[25.4 15.  14.3 13.  12.2]]\n"
     ]
    }
   ],
   "source": [
    "print(train_input[indexes,0])"
   ]
  },
  {
   "cell_type": "code",
   "execution_count": 41,
   "id": "77e17ee8",
   "metadata": {},
   "outputs": [
    {
     "name": "stdout",
     "output_type": "stream",
     "text": [
      "[[242.   19.9  19.7  12.2  12.2]]\n"
     ]
    }
   ],
   "source": [
    "print(train_input[indexes,1])"
   ]
  },
  {
   "cell_type": "code",
   "execution_count": 42,
   "id": "c0810d29",
   "metadata": {},
   "outputs": [
    {
     "name": "stdout",
     "output_type": "stream",
     "text": [
      "[[[ 25.4 242. ]\n",
      "  [ 15.   19.9]\n",
      "  [ 14.3  19.7]\n",
      "  [ 13.   12.2]\n",
      "  [ 12.2  12.2]]]\n"
     ]
    }
   ],
   "source": [
    "print(train_input[indexes]) # 확실히 가장 가까운 생선 5개 중 4개가 빙어"
   ]
  },
  {
   "cell_type": "code",
   "execution_count": 43,
   "id": "655500c9",
   "metadata": {},
   "outputs": [
    {
     "name": "stdout",
     "output_type": "stream",
     "text": [
      "[[1. 0. 0. 0. 0.]]\n"
     ]
    }
   ],
   "source": [
    "print(train_target[indexes]) # 타깃 데이터로 확인하면 더 명확하게 볼 수 있음"
   ]
  },
  {
   "cell_type": "code",
   "execution_count": 44,
   "id": "6d8cad02",
   "metadata": {},
   "outputs": [
    {
     "name": "stdout",
     "output_type": "stream",
     "text": [
      "[[ 92.00086956 130.48375378 130.73859415 138.32150953 138.39320793]]\n"
     ]
    }
   ],
   "source": [
    "# 그러니까 모델이 (25,150) 샘플을 빙어라고 예측한 것도 무리가 아님.\n",
    "## 모델은 왜 가장 가까운 이웃을 빙어라고 생각한 걸까? 산점도를 보면 직관적으로 도미와 가깝게 보이는데?\n",
    "\n",
    "# 이 문제의 해결 실마리를 찾기 위해 kneighbors() 메서드에서 반환한 distances 배열을 출력해보자\n",
    "print(distances)"
   ]
  },
  {
   "cell_type": "code",
   "execution_count": null,
   "id": "3b160a53",
   "metadata": {},
   "outputs": [],
   "source": []
  }
 ],
 "metadata": {
  "kernelspec": {
   "display_name": "Python 3 (ipykernel)",
   "language": "python",
   "name": "python3"
  },
  "language_info": {
   "codemirror_mode": {
    "name": "ipython",
    "version": 3
   },
   "file_extension": ".py",
   "mimetype": "text/x-python",
   "name": "python",
   "nbconvert_exporter": "python",
   "pygments_lexer": "ipython3",
   "version": "3.7.9"
  }
 },
 "nbformat": 4,
 "nbformat_minor": 5
}
